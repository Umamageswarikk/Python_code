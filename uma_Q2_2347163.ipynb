{
 "cells": [
  {
   "cell_type": "code",
   "execution_count": 24,
   "metadata": {},
   "outputs": [
    {
     "name": "stdout",
     "output_type": "stream",
     "text": [
      "[3, 15000, 6, 12000, 6, 15000]\n",
      "[15000, 6, 12000, 22000, 6, 15000]\n",
      "225000000\n",
      "36\n",
      "144000000\n",
      "484000000\n",
      "36\n",
      "225000000\n"
     ]
    }
   ],
   "source": [
    "#list divisible by 3\n",
    "l1=[3,15000,6,12000,1,22000,6,15000]\n",
    "new_list=[x for x in l1 if x%3==0]\n",
    "print(new_list)\n",
    "\n",
    "#square of even nos in list\n",
    "even_nos=[x for x in l1 if x%2==0]\n",
    "print(even_nos)\n",
    "for x in even_nos:\n",
    "    print(x**2)\n"
   ]
  },
  {
   "cell_type": "code",
   "execution_count": 65,
   "metadata": {},
   "outputs": [
    {
     "name": "stdout",
     "output_type": "stream",
     "text": [
      "15000\n",
      "27000\n",
      "49000\n",
      "64000\n",
      "{12000, 1, 3, 22000, 15000}\n"
     ]
    }
   ],
   "source": [
    "#sum of digits all even nos in lisr\n",
    "k=[x for x in l1 if x%2==0]\n",
    "s=0\n",
    "for i in range(0,len(k)):\n",
    "    s=s+k[i]\n",
    "    print(s)\n",
    "\n",
    "\n",
    "#remove duplicate nos in a list\n",
    "print(set(l1))\n",
    "\n"
   ]
  },
  {
   "cell_type": "code",
   "execution_count": 59,
   "metadata": {},
   "outputs": [
    {
     "name": "stdout",
     "output_type": "stream",
     "text": [
      "3 august 2001\n",
      "3 august 2001\n"
     ]
    }
   ],
   "source": [
    "d1={\n",
    "    'mrinalini':'3 august 2001',\n",
    "    'divya':'8 september 1998',\n",
    "    'priyanga':'26 november 2003',\n",
    "    'anu':'21 april 1989',\n",
    "    'kumar':'22 march 1987',\n",
    "}\n",
    "print(d1.get('mrinalini'))\n",
    "\n",
    "def Birth_date(key1):\n",
    "    value=d1[key1]\n",
    "    print(value)\n",
    "\n",
    "key1=input()    \n",
    "Birth_date(key1)\n"
   ]
  }
 ],
 "metadata": {
  "kernelspec": {
   "display_name": "Python 3",
   "language": "python",
   "name": "python3"
  },
  "language_info": {
   "codemirror_mode": {
    "name": "ipython",
    "version": 3
   },
   "file_extension": ".py",
   "mimetype": "text/x-python",
   "name": "python",
   "nbconvert_exporter": "python",
   "pygments_lexer": "ipython3",
   "version": "3.11.4"
  },
  "orig_nbformat": 4
 },
 "nbformat": 4,
 "nbformat_minor": 2
}
